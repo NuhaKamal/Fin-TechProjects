{
 "cells": [
  {
   "cell_type": "code",
   "execution_count": 2,
   "metadata": {},
   "outputs": [
    {
     "name": "stdout",
     "output_type": "stream",
     "text": [
      "Collecting nbconvert\n",
      "  Downloading nbconvert-7.16.4-py3-none-any.whl (257 kB)\n",
      "     ------------------------------------ 257.4/257.4 KB 277.4 kB/s eta 0:00:00\n",
      "Requirement already satisfied: bleach!=5.0.0 in c:\\users\\nuhaa\\appdata\\local\\programs\\python\\python310\\lib\\site-packages (from nbconvert) (6.1.0)\n",
      "Collecting jupyterlab-pygments\n",
      "  Downloading jupyterlab_pygments-0.3.0-py3-none-any.whl (15 kB)\n",
      "Requirement already satisfied: packaging in c:\\users\\nuhaa\\appdata\\roaming\\python\\python310\\site-packages (from nbconvert) (23.0)\n",
      "Collecting pandocfilters>=1.4.1\n",
      "  Downloading pandocfilters-1.5.1-py2.py3-none-any.whl (8.7 kB)\n",
      "Requirement already satisfied: markupsafe>=2.0 in c:\\users\\nuhaa\\appdata\\local\\programs\\python\\python310\\lib\\site-packages (from nbconvert) (2.1.2)\n",
      "Collecting nbclient>=0.5.0\n",
      "  Downloading nbclient-0.10.0-py3-none-any.whl (25 kB)\n",
      "Requirement already satisfied: nbformat>=5.7 in c:\\users\\nuhaa\\appdata\\local\\programs\\python\\python310\\lib\\site-packages (from nbconvert) (5.8.0)\n",
      "Requirement already satisfied: pygments>=2.4.1 in c:\\users\\nuhaa\\appdata\\roaming\\python\\python310\\site-packages (from nbconvert) (2.14.0)\n",
      "Collecting defusedxml\n",
      "  Downloading defusedxml-0.7.1-py2.py3-none-any.whl (25 kB)\n",
      "Collecting tinycss2\n",
      "  Downloading tinycss2-1.4.0-py3-none-any.whl (26 kB)\n",
      "Requirement already satisfied: traitlets>=5.1 in c:\\users\\nuhaa\\appdata\\roaming\\python\\python310\\site-packages (from nbconvert) (5.9.0)\n",
      "Collecting beautifulsoup4\n",
      "  Downloading beautifulsoup4-4.12.3-py3-none-any.whl (147 kB)\n",
      "     ------------------------------------ 147.9/147.9 KB 303.9 kB/s eta 0:00:00\n",
      "Requirement already satisfied: jupyter-core>=4.7 in c:\\users\\nuhaa\\appdata\\roaming\\python\\python310\\site-packages (from nbconvert) (5.3.0)\n",
      "Requirement already satisfied: jinja2>=3.0 in c:\\users\\nuhaa\\appdata\\local\\programs\\python\\python310\\lib\\site-packages (from nbconvert) (3.1.2)\n",
      "Collecting mistune<4,>=2.0.3\n",
      "  Downloading mistune-3.0.2-py3-none-any.whl (47 kB)\n",
      "     -------------------------------------- 48.0/48.0 KB 346.0 kB/s eta 0:00:00\n",
      "Requirement already satisfied: webencodings in c:\\users\\nuhaa\\appdata\\local\\programs\\python\\python310\\lib\\site-packages (from bleach!=5.0.0->nbconvert) (0.5.1)\n",
      "Requirement already satisfied: six>=1.9.0 in c:\\users\\nuhaa\\appdata\\roaming\\python\\python310\\site-packages (from bleach!=5.0.0->nbconvert) (1.16.0)\n",
      "Requirement already satisfied: platformdirs>=2.5 in c:\\users\\nuhaa\\appdata\\roaming\\python\\python310\\site-packages (from jupyter-core>=4.7->nbconvert) (3.2.0)\n",
      "Requirement already satisfied: pywin32>=300 in c:\\users\\nuhaa\\appdata\\roaming\\python\\python310\\site-packages (from jupyter-core>=4.7->nbconvert) (306)\n",
      "Requirement already satisfied: jupyter-client>=6.1.12 in c:\\users\\nuhaa\\appdata\\roaming\\python\\python310\\site-packages (from nbclient>=0.5.0->nbconvert) (8.1.0)\n",
      "Requirement already satisfied: jsonschema>=2.6 in c:\\users\\nuhaa\\appdata\\local\\programs\\python\\python310\\lib\\site-packages (from nbformat>=5.7->nbconvert) (4.17.3)\n",
      "Requirement already satisfied: fastjsonschema in c:\\users\\nuhaa\\appdata\\local\\programs\\python\\python310\\lib\\site-packages (from nbformat>=5.7->nbconvert) (2.16.3)\n",
      "Collecting soupsieve>1.2\n",
      "  Downloading soupsieve-2.6-py3-none-any.whl (36 kB)\n",
      "Requirement already satisfied: pyrsistent!=0.17.0,!=0.17.1,!=0.17.2,>=0.14.0 in c:\\users\\nuhaa\\appdata\\local\\programs\\python\\python310\\lib\\site-packages (from jsonschema>=2.6->nbformat>=5.7->nbconvert) (0.19.3)\n",
      "Requirement already satisfied: attrs>=17.4.0 in c:\\users\\nuhaa\\appdata\\local\\programs\\python\\python310\\lib\\site-packages (from jsonschema>=2.6->nbformat>=5.7->nbconvert) (22.2.0)\n",
      "Requirement already satisfied: python-dateutil>=2.8.2 in c:\\users\\nuhaa\\appdata\\roaming\\python\\python310\\site-packages (from jupyter-client>=6.1.12->nbclient>=0.5.0->nbconvert) (2.8.2)\n",
      "Requirement already satisfied: pyzmq>=23.0 in c:\\users\\nuhaa\\appdata\\roaming\\python\\python310\\site-packages (from jupyter-client>=6.1.12->nbclient>=0.5.0->nbconvert) (25.0.2)\n",
      "Requirement already satisfied: tornado>=6.2 in c:\\users\\nuhaa\\appdata\\roaming\\python\\python310\\site-packages (from jupyter-client>=6.1.12->nbclient>=0.5.0->nbconvert) (6.2)\n",
      "Installing collected packages: tinycss2, soupsieve, pandocfilters, mistune, jupyterlab-pygments, defusedxml, beautifulsoup4, nbclient, nbconvert\n",
      "Successfully installed beautifulsoup4-4.12.3 defusedxml-0.7.1 jupyterlab-pygments-0.3.0 mistune-3.0.2 nbclient-0.10.0 nbconvert-7.16.4 pandocfilters-1.5.1 soupsieve-2.6 tinycss2-1.4.0\n",
      "Note: you may need to restart the kernel to use updated packages.\n"
     ]
    },
    {
     "name": "stderr",
     "output_type": "stream",
     "text": [
      "  WARNING: The script jupyter-execute.exe is installed in 'c:\\Users\\nuhaa\\AppData\\Local\\Programs\\Python\\Python310\\Scripts' which is not on PATH.\n",
      "  Consider adding this directory to PATH or, if you prefer to suppress this warning, use --no-warn-script-location.\n",
      "  WARNING: The scripts jupyter-dejavu.exe and jupyter-nbconvert.exe are installed in 'c:\\Users\\nuhaa\\AppData\\Local\\Programs\\Python\\Python310\\Scripts' which is not on PATH.\n",
      "  Consider adding this directory to PATH or, if you prefer to suppress this warning, use --no-warn-script-location.\n",
      "WARNING: You are using pip version 22.0.4; however, version 24.3.1 is available.\n",
      "You should consider upgrading via the 'c:\\Users\\nuhaa\\AppData\\Local\\Programs\\Python\\Python310\\python.exe -m pip install --upgrade pip' command.\n"
     ]
    }
   ],
   "source": [
    "%pip install nbconvert"
   ]
  },
  {
   "cell_type": "code",
   "execution_count": 3,
   "metadata": {},
   "outputs": [],
   "source": []
  }
 ],
 "metadata": {
  "kernelspec": {
   "display_name": "Python 3",
   "language": "python",
   "name": "python3"
  },
  "language_info": {
   "codemirror_mode": {
    "name": "ipython",
    "version": 3
   },
   "file_extension": ".py",
   "mimetype": "text/x-python",
   "name": "python",
   "nbconvert_exporter": "python",
   "pygments_lexer": "ipython3",
   "version": "3.10.5"
  }
 },
 "nbformat": 4,
 "nbformat_minor": 2
}
